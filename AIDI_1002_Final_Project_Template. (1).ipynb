{
 "cells": [
  {
   "cell_type": "code",
   "execution_count": 1,
   "id": "4ce2edac",
   "metadata": {},
   "outputs": [
    {
     "name": "stderr",
     "output_type": "stream",
     "text": [
      "fatal: destination path 'Text-Classification-using-BERT-Model' already exists and is not an empty directory.\n"
     ]
    }
   ],
   "source": [
    "!git clone https://github.com/Praveen76/Text-Classification-using-BERT-Model.git\n"
   ]
  },
  {
   "cell_type": "code",
   "execution_count": 2,
   "id": "84b735d7",
   "metadata": {},
   "outputs": [
    {
     "name": "stdout",
     "output_type": "stream",
     "text": [
      "C:\\Users\\sandr\\Downloads\\Text-Classification-using-BERT-Model\n"
     ]
    }
   ],
   "source": [
    "cd Text-Classification-using-BERT-Model\n"
   ]
  },
  {
   "cell_type": "code",
   "execution_count": 3,
   "id": "46808c81",
   "metadata": {},
   "outputs": [
    {
     "name": "stdout",
     "output_type": "stream",
     "text": [
      "Requirement already satisfied: simpletransformers in c:\\users\\sandr\\anaconda3\\lib\\site-packages (0.70.1)\n",
      "Requirement already satisfied: pandas in c:\\users\\sandr\\anaconda3\\lib\\site-packages (1.5.3)\n",
      "Requirement already satisfied: numpy in c:\\users\\sandr\\anaconda3\\lib\\site-packages (from simpletransformers) (1.24.3)\n",
      "Requirement already satisfied: requests in c:\\users\\sandr\\anaconda3\\lib\\site-packages (from simpletransformers) (2.32.3)\n",
      "Requirement already satisfied: tqdm>=4.47.0 in c:\\users\\sandr\\anaconda3\\lib\\site-packages (from simpletransformers) (4.67.1)\n",
      "Requirement already satisfied: regex in c:\\users\\sandr\\anaconda3\\lib\\site-packages (from simpletransformers) (2022.7.9)\n",
      "Requirement already satisfied: transformers>=4.31.0 in c:\\users\\sandr\\anaconda3\\lib\\site-packages (from simpletransformers) (4.47.0)\n",
      "Requirement already satisfied: datasets in c:\\users\\sandr\\anaconda3\\lib\\site-packages (from simpletransformers) (3.1.0)\n",
      "Requirement already satisfied: scipy in c:\\users\\sandr\\anaconda3\\lib\\site-packages (from simpletransformers) (1.10.1)\n",
      "Requirement already satisfied: scikit-learn in c:\\users\\sandr\\anaconda3\\lib\\site-packages (from simpletransformers) (1.3.0)\n",
      "Requirement already satisfied: seqeval in c:\\users\\sandr\\anaconda3\\lib\\site-packages (from simpletransformers) (1.2.2)\n",
      "Requirement already satisfied: tensorboard in c:\\users\\sandr\\anaconda3\\lib\\site-packages (from simpletransformers) (2.18.0)\n",
      "Requirement already satisfied: tensorboardx in c:\\users\\sandr\\anaconda3\\lib\\site-packages (from simpletransformers) (2.6.2.2)\n",
      "Requirement already satisfied: tokenizers in c:\\users\\sandr\\anaconda3\\lib\\site-packages (from simpletransformers) (0.21.0)\n",
      "Requirement already satisfied: wandb>=0.10.32 in c:\\users\\sandr\\anaconda3\\lib\\site-packages (from simpletransformers) (0.19.0)\n",
      "Requirement already satisfied: streamlit in c:\\users\\sandr\\anaconda3\\lib\\site-packages (from simpletransformers) (1.40.2)\n",
      "Requirement already satisfied: sentencepiece in c:\\users\\sandr\\anaconda3\\lib\\site-packages (from simpletransformers) (0.2.0)\n",
      "Requirement already satisfied: python-dateutil>=2.8.1 in c:\\users\\sandr\\anaconda3\\lib\\site-packages (from pandas) (2.8.2)\n",
      "Requirement already satisfied: pytz>=2020.1 in c:\\users\\sandr\\anaconda3\\lib\\site-packages (from pandas) (2022.7)\n",
      "Requirement already satisfied: six>=1.5 in c:\\users\\sandr\\anaconda3\\lib\\site-packages (from python-dateutil>=2.8.1->pandas) (1.16.0)\n",
      "Requirement already satisfied: colorama in c:\\users\\sandr\\anaconda3\\lib\\site-packages (from tqdm>=4.47.0->simpletransformers) (0.4.6)\n",
      "Requirement already satisfied: filelock in c:\\users\\sandr\\anaconda3\\lib\\site-packages (from transformers>=4.31.0->simpletransformers) (3.9.0)\n",
      "Requirement already satisfied: huggingface-hub<1.0,>=0.24.0 in c:\\users\\sandr\\anaconda3\\lib\\site-packages (from transformers>=4.31.0->simpletransformers) (0.26.5)\n",
      "Requirement already satisfied: packaging>=20.0 in c:\\users\\sandr\\anaconda3\\lib\\site-packages (from transformers>=4.31.0->simpletransformers) (23.0)\n",
      "Requirement already satisfied: pyyaml>=5.1 in c:\\users\\sandr\\anaconda3\\lib\\site-packages (from transformers>=4.31.0->simpletransformers) (6.0)\n",
      "Requirement already satisfied: safetensors>=0.4.1 in c:\\users\\sandr\\anaconda3\\lib\\site-packages (from transformers>=4.31.0->simpletransformers) (0.4.5)\n",
      "Requirement already satisfied: click!=8.0.0,>=7.1 in c:\\users\\sandr\\anaconda3\\lib\\site-packages (from wandb>=0.10.32->simpletransformers) (8.0.4)\n",
      "Requirement already satisfied: docker-pycreds>=0.4.0 in c:\\users\\sandr\\anaconda3\\lib\\site-packages (from wandb>=0.10.32->simpletransformers) (0.4.0)\n",
      "Requirement already satisfied: gitpython!=3.1.29,>=1.0.0 in c:\\users\\sandr\\anaconda3\\lib\\site-packages (from wandb>=0.10.32->simpletransformers) (3.1.43)\n",
      "Requirement already satisfied: platformdirs in c:\\users\\sandr\\anaconda3\\lib\\site-packages (from wandb>=0.10.32->simpletransformers) (2.5.2)\n",
      "Requirement already satisfied: protobuf!=4.21.0,!=5.28.0,<6,>=3.19.0 in c:\\users\\sandr\\anaconda3\\lib\\site-packages (from wandb>=0.10.32->simpletransformers) (5.29.1)\n",
      "Requirement already satisfied: psutil>=5.0.0 in c:\\users\\sandr\\anaconda3\\lib\\site-packages (from wandb>=0.10.32->simpletransformers) (5.9.0)\n",
      "Requirement already satisfied: pydantic<3,>=2.6 in c:\\users\\sandr\\anaconda3\\lib\\site-packages (from wandb>=0.10.32->simpletransformers) (2.10.3)\n",
      "Requirement already satisfied: sentry-sdk>=2.0.0 in c:\\users\\sandr\\anaconda3\\lib\\site-packages (from wandb>=0.10.32->simpletransformers) (2.19.2)\n",
      "Requirement already satisfied: setproctitle in c:\\users\\sandr\\anaconda3\\lib\\site-packages (from wandb>=0.10.32->simpletransformers) (1.3.4)\n",
      "Requirement already satisfied: setuptools in c:\\users\\sandr\\anaconda3\\lib\\site-packages (from wandb>=0.10.32->simpletransformers) (68.0.0)\n",
      "Requirement already satisfied: typing-extensions<5,>=4.4 in c:\\users\\sandr\\anaconda3\\lib\\site-packages (from wandb>=0.10.32->simpletransformers) (4.12.2)\n",
      "Requirement already satisfied: charset-normalizer<4,>=2 in c:\\users\\sandr\\anaconda3\\lib\\site-packages (from requests->simpletransformers) (2.0.4)\n",
      "Requirement already satisfied: idna<4,>=2.5 in c:\\users\\sandr\\anaconda3\\lib\\site-packages (from requests->simpletransformers) (3.4)\n",
      "Requirement already satisfied: urllib3<3,>=1.21.1 in c:\\users\\sandr\\anaconda3\\lib\\site-packages (from requests->simpletransformers) (1.26.16)\n",
      "Requirement already satisfied: certifi>=2017.4.17 in c:\\users\\sandr\\anaconda3\\lib\\site-packages (from requests->simpletransformers) (2023.7.22)\n",
      "Requirement already satisfied: pyarrow>=15.0.0 in c:\\users\\sandr\\anaconda3\\lib\\site-packages (from datasets->simpletransformers) (18.1.0)\n",
      "Requirement already satisfied: dill<0.3.9,>=0.3.0 in c:\\users\\sandr\\anaconda3\\lib\\site-packages (from datasets->simpletransformers) (0.3.8)\n",
      "Requirement already satisfied: xxhash in c:\\users\\sandr\\anaconda3\\lib\\site-packages (from datasets->simpletransformers) (3.5.0)\n",
      "Requirement already satisfied: multiprocess<0.70.17 in c:\\users\\sandr\\anaconda3\\lib\\site-packages (from datasets->simpletransformers) (0.70.16)\n",
      "Requirement already satisfied: fsspec[http]<=2024.9.0,>=2023.1.0 in c:\\users\\sandr\\anaconda3\\lib\\site-packages (from datasets->simpletransformers) (2024.9.0)\n",
      "Requirement already satisfied: aiohttp in c:\\users\\sandr\\anaconda3\\lib\\site-packages (from datasets->simpletransformers) (3.8.3)\n",
      "Requirement already satisfied: joblib>=1.1.1 in c:\\users\\sandr\\anaconda3\\lib\\site-packages (from scikit-learn->simpletransformers) (1.2.0)\n",
      "Requirement already satisfied: threadpoolctl>=2.0.0 in c:\\users\\sandr\\anaconda3\\lib\\site-packages (from scikit-learn->simpletransformers) (2.2.0)\n",
      "Requirement already satisfied: altair<6,>=4.0 in c:\\users\\sandr\\anaconda3\\lib\\site-packages (from streamlit->simpletransformers) (5.5.0)\n",
      "Requirement already satisfied: blinker<2,>=1.0.0 in c:\\users\\sandr\\anaconda3\\lib\\site-packages (from streamlit->simpletransformers) (1.9.0)\n",
      "Requirement already satisfied: cachetools<6,>=4.0 in c:\\users\\sandr\\anaconda3\\lib\\site-packages (from streamlit->simpletransformers) (5.5.0)\n",
      "Requirement already satisfied: pillow<12,>=7.1.0 in c:\\users\\sandr\\anaconda3\\lib\\site-packages (from streamlit->simpletransformers) (9.4.0)\n",
      "Requirement already satisfied: rich<14,>=10.14.0 in c:\\users\\sandr\\anaconda3\\lib\\site-packages (from streamlit->simpletransformers) (13.9.4)\n",
      "Requirement already satisfied: tenacity<10,>=8.1.0 in c:\\users\\sandr\\anaconda3\\lib\\site-packages (from streamlit->simpletransformers) (8.2.2)\n",
      "Requirement already satisfied: toml<2,>=0.10.1 in c:\\users\\sandr\\anaconda3\\lib\\site-packages (from streamlit->simpletransformers) (0.10.2)\n",
      "Requirement already satisfied: watchdog<7,>=2.1.5 in c:\\users\\sandr\\anaconda3\\lib\\site-packages (from streamlit->simpletransformers) (2.1.6)\n",
      "Requirement already satisfied: pydeck<1,>=0.8.0b4 in c:\\users\\sandr\\anaconda3\\lib\\site-packages (from streamlit->simpletransformers) (0.9.1)\n",
      "Requirement already satisfied: tornado<7,>=6.0.3 in c:\\users\\sandr\\anaconda3\\lib\\site-packages (from streamlit->simpletransformers) (6.3.2)\n",
      "Requirement already satisfied: absl-py>=0.4 in c:\\users\\sandr\\anaconda3\\lib\\site-packages (from tensorboard->simpletransformers) (2.1.0)\n",
      "Requirement already satisfied: grpcio>=1.48.2 in c:\\users\\sandr\\anaconda3\\lib\\site-packages (from tensorboard->simpletransformers) (1.68.1)\n",
      "Requirement already satisfied: markdown>=2.6.8 in c:\\users\\sandr\\anaconda3\\lib\\site-packages (from tensorboard->simpletransformers) (3.4.1)\n",
      "Requirement already satisfied: tensorboard-data-server<0.8.0,>=0.7.0 in c:\\users\\sandr\\anaconda3\\lib\\site-packages (from tensorboard->simpletransformers) (0.7.2)\n",
      "Requirement already satisfied: werkzeug>=1.0.1 in c:\\users\\sandr\\anaconda3\\lib\\site-packages (from tensorboard->simpletransformers) (2.2.3)\n",
      "Requirement already satisfied: jinja2 in c:\\users\\sandr\\anaconda3\\lib\\site-packages (from altair<6,>=4.0->streamlit->simpletransformers) (3.1.2)\n",
      "Requirement already satisfied: jsonschema>=3.0 in c:\\users\\sandr\\anaconda3\\lib\\site-packages (from altair<6,>=4.0->streamlit->simpletransformers) (4.17.3)\n",
      "Requirement already satisfied: narwhals>=1.14.2 in c:\\users\\sandr\\anaconda3\\lib\\site-packages (from altair<6,>=4.0->streamlit->simpletransformers) (1.16.0)\n",
      "Requirement already satisfied: attrs>=17.3.0 in c:\\users\\sandr\\anaconda3\\lib\\site-packages (from aiohttp->datasets->simpletransformers) (22.1.0)\n",
      "Requirement already satisfied: multidict<7.0,>=4.5 in c:\\users\\sandr\\anaconda3\\lib\\site-packages (from aiohttp->datasets->simpletransformers) (6.0.2)\n",
      "Requirement already satisfied: async-timeout<5.0,>=4.0.0a3 in c:\\users\\sandr\\anaconda3\\lib\\site-packages (from aiohttp->datasets->simpletransformers) (4.0.2)\n",
      "Requirement already satisfied: yarl<2.0,>=1.0 in c:\\users\\sandr\\anaconda3\\lib\\site-packages (from aiohttp->datasets->simpletransformers) (1.8.1)\n",
      "Requirement already satisfied: frozenlist>=1.1.1 in c:\\users\\sandr\\anaconda3\\lib\\site-packages (from aiohttp->datasets->simpletransformers) (1.3.3)\n",
      "Requirement already satisfied: aiosignal>=1.1.2 in c:\\users\\sandr\\anaconda3\\lib\\site-packages (from aiohttp->datasets->simpletransformers) (1.2.0)\n",
      "Requirement already satisfied: gitdb<5,>=4.0.1 in c:\\users\\sandr\\anaconda3\\lib\\site-packages (from gitpython!=3.1.29,>=1.0.0->wandb>=0.10.32->simpletransformers) (4.0.11)\n",
      "Requirement already satisfied: annotated-types>=0.6.0 in c:\\users\\sandr\\anaconda3\\lib\\site-packages (from pydantic<3,>=2.6->wandb>=0.10.32->simpletransformers) (0.7.0)\n",
      "Requirement already satisfied: pydantic-core==2.27.1 in c:\\users\\sandr\\anaconda3\\lib\\site-packages (from pydantic<3,>=2.6->wandb>=0.10.32->simpletransformers) (2.27.1)\n",
      "Requirement already satisfied: markdown-it-py>=2.2.0 in c:\\users\\sandr\\anaconda3\\lib\\site-packages (from rich<14,>=10.14.0->streamlit->simpletransformers) (2.2.0)\n",
      "Requirement already satisfied: pygments<3.0.0,>=2.13.0 in c:\\users\\sandr\\anaconda3\\lib\\site-packages (from rich<14,>=10.14.0->streamlit->simpletransformers) (2.15.1)\n",
      "Requirement already satisfied: MarkupSafe>=2.1.1 in c:\\users\\sandr\\anaconda3\\lib\\site-packages (from werkzeug>=1.0.1->tensorboard->simpletransformers) (2.1.1)\n",
      "Requirement already satisfied: smmap<6,>=3.0.1 in c:\\users\\sandr\\anaconda3\\lib\\site-packages (from gitdb<5,>=4.0.1->gitpython!=3.1.29,>=1.0.0->wandb>=0.10.32->simpletransformers) (5.0.1)\n",
      "Requirement already satisfied: pyrsistent!=0.17.0,!=0.17.1,!=0.17.2,>=0.14.0 in c:\\users\\sandr\\anaconda3\\lib\\site-packages (from jsonschema>=3.0->altair<6,>=4.0->streamlit->simpletransformers) (0.18.0)\n",
      "Requirement already satisfied: mdurl~=0.1 in c:\\users\\sandr\\anaconda3\\lib\\site-packages (from markdown-it-py>=2.2.0->rich<14,>=10.14.0->streamlit->simpletransformers) (0.1.0)\n",
      "Note: you may need to restart the kernel to use updated packages.\n"
     ]
    }
   ],
   "source": [
    "pip install simpletransformers pandas\n"
   ]
  },
  {
   "cell_type": "code",
   "execution_count": 4,
   "id": "39fcac9e",
   "metadata": {},
   "outputs": [
    {
     "name": "stdout",
     "output_type": "stream",
     "text": [
      "Requirement already satisfied: simpletransformers in c:\\users\\sandr\\anaconda3\\lib\\site-packages (0.70.1)\n",
      "Requirement already satisfied: pandas in c:\\users\\sandr\\anaconda3\\lib\\site-packages (1.5.3)\n",
      "Requirement already satisfied: kagglehub in c:\\users\\sandr\\anaconda3\\lib\\site-packages (0.3.4)\n",
      "Requirement already satisfied: numpy in c:\\users\\sandr\\anaconda3\\lib\\site-packages (from simpletransformers) (1.24.3)\n",
      "Requirement already satisfied: requests in c:\\users\\sandr\\anaconda3\\lib\\site-packages (from simpletransformers) (2.32.3)\n",
      "Requirement already satisfied: tqdm>=4.47.0 in c:\\users\\sandr\\anaconda3\\lib\\site-packages (from simpletransformers) (4.67.1)\n",
      "Requirement already satisfied: regex in c:\\users\\sandr\\anaconda3\\lib\\site-packages (from simpletransformers) (2022.7.9)\n",
      "Requirement already satisfied: transformers>=4.31.0 in c:\\users\\sandr\\anaconda3\\lib\\site-packages (from simpletransformers) (4.47.0)\n",
      "Requirement already satisfied: datasets in c:\\users\\sandr\\anaconda3\\lib\\site-packages (from simpletransformers) (3.1.0)\n",
      "Requirement already satisfied: scipy in c:\\users\\sandr\\anaconda3\\lib\\site-packages (from simpletransformers) (1.10.1)\n",
      "Requirement already satisfied: scikit-learn in c:\\users\\sandr\\anaconda3\\lib\\site-packages (from simpletransformers) (1.3.0)\n",
      "Requirement already satisfied: seqeval in c:\\users\\sandr\\anaconda3\\lib\\site-packages (from simpletransformers) (1.2.2)\n",
      "Requirement already satisfied: tensorboard in c:\\users\\sandr\\anaconda3\\lib\\site-packages (from simpletransformers) (2.18.0)\n",
      "Requirement already satisfied: tensorboardx in c:\\users\\sandr\\anaconda3\\lib\\site-packages (from simpletransformers) (2.6.2.2)\n",
      "Requirement already satisfied: tokenizers in c:\\users\\sandr\\anaconda3\\lib\\site-packages (from simpletransformers) (0.21.0)\n",
      "Requirement already satisfied: wandb>=0.10.32 in c:\\users\\sandr\\anaconda3\\lib\\site-packages (from simpletransformers) (0.19.0)\n",
      "Requirement already satisfied: streamlit in c:\\users\\sandr\\anaconda3\\lib\\site-packages (from simpletransformers) (1.40.2)\n",
      "Requirement already satisfied: sentencepiece in c:\\users\\sandr\\anaconda3\\lib\\site-packages (from simpletransformers) (0.2.0)\n",
      "Requirement already satisfied: python-dateutil>=2.8.1 in c:\\users\\sandr\\anaconda3\\lib\\site-packages (from pandas) (2.8.2)\n",
      "Requirement already satisfied: pytz>=2020.1 in c:\\users\\sandr\\anaconda3\\lib\\site-packages (from pandas) (2022.7)\n",
      "Requirement already satisfied: packaging in c:\\users\\sandr\\anaconda3\\lib\\site-packages (from kagglehub) (23.0)\n",
      "Requirement already satisfied: six>=1.5 in c:\\users\\sandr\\anaconda3\\lib\\site-packages (from python-dateutil>=2.8.1->pandas) (1.16.0)\n",
      "Requirement already satisfied: colorama in c:\\users\\sandr\\anaconda3\\lib\\site-packages (from tqdm>=4.47.0->simpletransformers) (0.4.6)\n",
      "Requirement already satisfied: filelock in c:\\users\\sandr\\anaconda3\\lib\\site-packages (from transformers>=4.31.0->simpletransformers) (3.9.0)\n",
      "Requirement already satisfied: huggingface-hub<1.0,>=0.24.0 in c:\\users\\sandr\\anaconda3\\lib\\site-packages (from transformers>=4.31.0->simpletransformers) (0.26.5)\n",
      "Requirement already satisfied: pyyaml>=5.1 in c:\\users\\sandr\\anaconda3\\lib\\site-packages (from transformers>=4.31.0->simpletransformers) (6.0)\n",
      "Requirement already satisfied: safetensors>=0.4.1 in c:\\users\\sandr\\anaconda3\\lib\\site-packages (from transformers>=4.31.0->simpletransformers) (0.4.5)\n",
      "Requirement already satisfied: click!=8.0.0,>=7.1 in c:\\users\\sandr\\anaconda3\\lib\\site-packages (from wandb>=0.10.32->simpletransformers) (8.0.4)\n",
      "Requirement already satisfied: docker-pycreds>=0.4.0 in c:\\users\\sandr\\anaconda3\\lib\\site-packages (from wandb>=0.10.32->simpletransformers) (0.4.0)\n",
      "Requirement already satisfied: gitpython!=3.1.29,>=1.0.0 in c:\\users\\sandr\\anaconda3\\lib\\site-packages (from wandb>=0.10.32->simpletransformers) (3.1.43)\n",
      "Requirement already satisfied: platformdirs in c:\\users\\sandr\\anaconda3\\lib\\site-packages (from wandb>=0.10.32->simpletransformers) (2.5.2)\n",
      "Requirement already satisfied: protobuf!=4.21.0,!=5.28.0,<6,>=3.19.0 in c:\\users\\sandr\\anaconda3\\lib\\site-packages (from wandb>=0.10.32->simpletransformers) (5.29.1)\n",
      "Requirement already satisfied: psutil>=5.0.0 in c:\\users\\sandr\\anaconda3\\lib\\site-packages (from wandb>=0.10.32->simpletransformers) (5.9.0)\n",
      "Requirement already satisfied: pydantic<3,>=2.6 in c:\\users\\sandr\\anaconda3\\lib\\site-packages (from wandb>=0.10.32->simpletransformers) (2.10.3)\n",
      "Requirement already satisfied: sentry-sdk>=2.0.0 in c:\\users\\sandr\\anaconda3\\lib\\site-packages (from wandb>=0.10.32->simpletransformers) (2.19.2)\n",
      "Requirement already satisfied: setproctitle in c:\\users\\sandr\\anaconda3\\lib\\site-packages (from wandb>=0.10.32->simpletransformers) (1.3.4)\n",
      "Requirement already satisfied: setuptools in c:\\users\\sandr\\anaconda3\\lib\\site-packages (from wandb>=0.10.32->simpletransformers) (68.0.0)\n",
      "Requirement already satisfied: typing-extensions<5,>=4.4 in c:\\users\\sandr\\anaconda3\\lib\\site-packages (from wandb>=0.10.32->simpletransformers) (4.12.2)\n",
      "Requirement already satisfied: charset-normalizer<4,>=2 in c:\\users\\sandr\\anaconda3\\lib\\site-packages (from requests->simpletransformers) (2.0.4)\n",
      "Requirement already satisfied: idna<4,>=2.5 in c:\\users\\sandr\\anaconda3\\lib\\site-packages (from requests->simpletransformers) (3.4)\n",
      "Requirement already satisfied: urllib3<3,>=1.21.1 in c:\\users\\sandr\\anaconda3\\lib\\site-packages (from requests->simpletransformers) (1.26.16)\n",
      "Requirement already satisfied: certifi>=2017.4.17 in c:\\users\\sandr\\anaconda3\\lib\\site-packages (from requests->simpletransformers) (2023.7.22)\n",
      "Requirement already satisfied: pyarrow>=15.0.0 in c:\\users\\sandr\\anaconda3\\lib\\site-packages (from datasets->simpletransformers) (18.1.0)\n",
      "Requirement already satisfied: dill<0.3.9,>=0.3.0 in c:\\users\\sandr\\anaconda3\\lib\\site-packages (from datasets->simpletransformers) (0.3.8)\n",
      "Requirement already satisfied: xxhash in c:\\users\\sandr\\anaconda3\\lib\\site-packages (from datasets->simpletransformers) (3.5.0)\n",
      "Requirement already satisfied: multiprocess<0.70.17 in c:\\users\\sandr\\anaconda3\\lib\\site-packages (from datasets->simpletransformers) (0.70.16)\n",
      "Requirement already satisfied: fsspec[http]<=2024.9.0,>=2023.1.0 in c:\\users\\sandr\\anaconda3\\lib\\site-packages (from datasets->simpletransformers) (2024.9.0)\n",
      "Requirement already satisfied: aiohttp in c:\\users\\sandr\\anaconda3\\lib\\site-packages (from datasets->simpletransformers) (3.8.3)\n",
      "Requirement already satisfied: joblib>=1.1.1 in c:\\users\\sandr\\anaconda3\\lib\\site-packages (from scikit-learn->simpletransformers) (1.2.0)\n",
      "Requirement already satisfied: threadpoolctl>=2.0.0 in c:\\users\\sandr\\anaconda3\\lib\\site-packages (from scikit-learn->simpletransformers) (2.2.0)\n",
      "Requirement already satisfied: altair<6,>=4.0 in c:\\users\\sandr\\anaconda3\\lib\\site-packages (from streamlit->simpletransformers) (5.5.0)\n",
      "Requirement already satisfied: blinker<2,>=1.0.0 in c:\\users\\sandr\\anaconda3\\lib\\site-packages (from streamlit->simpletransformers) (1.9.0)\n",
      "Requirement already satisfied: cachetools<6,>=4.0 in c:\\users\\sandr\\anaconda3\\lib\\site-packages (from streamlit->simpletransformers) (5.5.0)\n",
      "Requirement already satisfied: pillow<12,>=7.1.0 in c:\\users\\sandr\\anaconda3\\lib\\site-packages (from streamlit->simpletransformers) (9.4.0)\n",
      "Requirement already satisfied: rich<14,>=10.14.0 in c:\\users\\sandr\\anaconda3\\lib\\site-packages (from streamlit->simpletransformers) (13.9.4)\n",
      "Requirement already satisfied: tenacity<10,>=8.1.0 in c:\\users\\sandr\\anaconda3\\lib\\site-packages (from streamlit->simpletransformers) (8.2.2)\n",
      "Requirement already satisfied: toml<2,>=0.10.1 in c:\\users\\sandr\\anaconda3\\lib\\site-packages (from streamlit->simpletransformers) (0.10.2)\n",
      "Requirement already satisfied: watchdog<7,>=2.1.5 in c:\\users\\sandr\\anaconda3\\lib\\site-packages (from streamlit->simpletransformers) (2.1.6)\n",
      "Requirement already satisfied: pydeck<1,>=0.8.0b4 in c:\\users\\sandr\\anaconda3\\lib\\site-packages (from streamlit->simpletransformers) (0.9.1)\n",
      "Requirement already satisfied: tornado<7,>=6.0.3 in c:\\users\\sandr\\anaconda3\\lib\\site-packages (from streamlit->simpletransformers) (6.3.2)\n",
      "Requirement already satisfied: absl-py>=0.4 in c:\\users\\sandr\\anaconda3\\lib\\site-packages (from tensorboard->simpletransformers) (2.1.0)\n",
      "Requirement already satisfied: grpcio>=1.48.2 in c:\\users\\sandr\\anaconda3\\lib\\site-packages (from tensorboard->simpletransformers) (1.68.1)\n",
      "Requirement already satisfied: markdown>=2.6.8 in c:\\users\\sandr\\anaconda3\\lib\\site-packages (from tensorboard->simpletransformers) (3.4.1)\n",
      "Requirement already satisfied: tensorboard-data-server<0.8.0,>=0.7.0 in c:\\users\\sandr\\anaconda3\\lib\\site-packages (from tensorboard->simpletransformers) (0.7.2)\n",
      "Requirement already satisfied: werkzeug>=1.0.1 in c:\\users\\sandr\\anaconda3\\lib\\site-packages (from tensorboard->simpletransformers) (2.2.3)\n",
      "Requirement already satisfied: jinja2 in c:\\users\\sandr\\anaconda3\\lib\\site-packages (from altair<6,>=4.0->streamlit->simpletransformers) (3.1.2)\n",
      "Requirement already satisfied: jsonschema>=3.0 in c:\\users\\sandr\\anaconda3\\lib\\site-packages (from altair<6,>=4.0->streamlit->simpletransformers) (4.17.3)\n",
      "Requirement already satisfied: narwhals>=1.14.2 in c:\\users\\sandr\\anaconda3\\lib\\site-packages (from altair<6,>=4.0->streamlit->simpletransformers) (1.16.0)\n",
      "Requirement already satisfied: attrs>=17.3.0 in c:\\users\\sandr\\anaconda3\\lib\\site-packages (from aiohttp->datasets->simpletransformers) (22.1.0)\n",
      "Requirement already satisfied: multidict<7.0,>=4.5 in c:\\users\\sandr\\anaconda3\\lib\\site-packages (from aiohttp->datasets->simpletransformers) (6.0.2)\n",
      "Requirement already satisfied: async-timeout<5.0,>=4.0.0a3 in c:\\users\\sandr\\anaconda3\\lib\\site-packages (from aiohttp->datasets->simpletransformers) (4.0.2)\n",
      "Requirement already satisfied: yarl<2.0,>=1.0 in c:\\users\\sandr\\anaconda3\\lib\\site-packages (from aiohttp->datasets->simpletransformers) (1.8.1)\n",
      "Requirement already satisfied: frozenlist>=1.1.1 in c:\\users\\sandr\\anaconda3\\lib\\site-packages (from aiohttp->datasets->simpletransformers) (1.3.3)\n",
      "Requirement already satisfied: aiosignal>=1.1.2 in c:\\users\\sandr\\anaconda3\\lib\\site-packages (from aiohttp->datasets->simpletransformers) (1.2.0)\n",
      "Requirement already satisfied: gitdb<5,>=4.0.1 in c:\\users\\sandr\\anaconda3\\lib\\site-packages (from gitpython!=3.1.29,>=1.0.0->wandb>=0.10.32->simpletransformers) (4.0.11)\n",
      "Requirement already satisfied: annotated-types>=0.6.0 in c:\\users\\sandr\\anaconda3\\lib\\site-packages (from pydantic<3,>=2.6->wandb>=0.10.32->simpletransformers) (0.7.0)\n",
      "Requirement already satisfied: pydantic-core==2.27.1 in c:\\users\\sandr\\anaconda3\\lib\\site-packages (from pydantic<3,>=2.6->wandb>=0.10.32->simpletransformers) (2.27.1)\n",
      "Requirement already satisfied: markdown-it-py>=2.2.0 in c:\\users\\sandr\\anaconda3\\lib\\site-packages (from rich<14,>=10.14.0->streamlit->simpletransformers) (2.2.0)\n",
      "Requirement already satisfied: pygments<3.0.0,>=2.13.0 in c:\\users\\sandr\\anaconda3\\lib\\site-packages (from rich<14,>=10.14.0->streamlit->simpletransformers) (2.15.1)\n",
      "Requirement already satisfied: MarkupSafe>=2.1.1 in c:\\users\\sandr\\anaconda3\\lib\\site-packages (from werkzeug>=1.0.1->tensorboard->simpletransformers) (2.1.1)\n",
      "Requirement already satisfied: smmap<6,>=3.0.1 in c:\\users\\sandr\\anaconda3\\lib\\site-packages (from gitdb<5,>=4.0.1->gitpython!=3.1.29,>=1.0.0->wandb>=0.10.32->simpletransformers) (5.0.1)\n",
      "Requirement already satisfied: pyrsistent!=0.17.0,!=0.17.1,!=0.17.2,>=0.14.0 in c:\\users\\sandr\\anaconda3\\lib\\site-packages (from jsonschema>=3.0->altair<6,>=4.0->streamlit->simpletransformers) (0.18.0)\n",
      "Requirement already satisfied: mdurl~=0.1 in c:\\users\\sandr\\anaconda3\\lib\\site-packages (from markdown-it-py>=2.2.0->rich<14,>=10.14.0->streamlit->simpletransformers) (0.1.0)\n",
      "Note: you may need to restart the kernel to use updated packages.\n"
     ]
    }
   ],
   "source": [
    "pip install simpletransformers pandas kagglehub\n"
   ]
  },
  {
   "cell_type": "code",
   "execution_count": 5,
   "id": "dc19a4fc",
   "metadata": {},
   "outputs": [
    {
     "name": "stdout",
     "output_type": "stream",
     "text": [
      "Path to dataset files: C:\\Users\\sandr\\.cache\\kagglehub\\datasets\\lakshmi25npathi\\imdb-dataset-of-50k-movie-reviews\\versions\\1\n"
     ]
    }
   ],
   "source": [
    "import kagglehub\n",
    "\n",
    "# Download latest version\n",
    "path = kagglehub.dataset_download(\"lakshmi25npathi/imdb-dataset-of-50k-movie-reviews\")\n",
    "\n",
    "print(\"Path to dataset files:\", path)"
   ]
  },
  {
   "cell_type": "code",
   "execution_count": 6,
   "id": "fd89dee7",
   "metadata": {},
   "outputs": [
    {
     "name": "stdout",
     "output_type": "stream",
     "text": [
      "Path to dataset files: C:\\Users\\sandr\\.cache\\kagglehub\\datasets\\lakshmi25npathi\\imdb-dataset-of-50k-movie-reviews\\versions\\1\n",
      "Files in the dataset directory:\n",
      "['IMDB Dataset.csv']\n",
      "                                              review sentiment\n",
      "0  One of the other reviewers has mentioned that ...  positive\n",
      "1  A wonderful little production. <br /><br />The...  positive\n",
      "2  I thought this was a wonderful way to spend ti...  positive\n",
      "3  Basically there's a family where a little boy ...  negative\n",
      "4  Petter Mattei's \"Love in the Time of Money\" is...  positive\n"
     ]
    }
   ],
   "source": [
    "import kagglehub\n",
    "import os\n",
    "import pandas as pd\n",
    "\n",
    "# Download the dataset\n",
    "path = kagglehub.dataset_download(\"lakshmi25npathi/imdb-dataset-of-50k-movie-reviews\")\n",
    "print(\"Path to dataset files:\", path)\n",
    "\n",
    "# Check the path where the dataset is downloaded\n",
    "dataset_path = os.path.expanduser(\"~/.cache/kagglehub/datasets/lakshmi25npathi/imdb-dataset-of-50k-movie-reviews/versions/1\")\n",
    "print(\"Files in the dataset directory:\")\n",
    "print(os.listdir(dataset_path))\n",
    "\n",
    "# Load the dataset (replace 'IMDB Dataset.csv' with the actual file name if different)\n",
    "train_data = pd.read_csv(os.path.join(dataset_path, 'IMDB Dataset.csv'))  # Adjust the filename as necessary\n",
    "\n",
    "# Display the first few rows of the training data\n",
    "print(train_data.head())"
   ]
  },
  {
   "cell_type": "markdown",
   "id": "e5b34b5a",
   "metadata": {},
   "source": [
    "Set Up the BERT Model"
   ]
  },
  {
   "cell_type": "code",
   "execution_count": 7,
   "id": "73ad9775",
   "metadata": {},
   "outputs": [
    {
     "name": "stdout",
     "output_type": "stream",
     "text": [
      "Requirement already satisfied: simpletransformers in c:\\users\\sandr\\anaconda3\\lib\\site-packages (0.70.1)\n",
      "Requirement already satisfied: numpy in c:\\users\\sandr\\anaconda3\\lib\\site-packages (from simpletransformers) (1.24.3)\n",
      "Requirement already satisfied: requests in c:\\users\\sandr\\anaconda3\\lib\\site-packages (from simpletransformers) (2.32.3)\n",
      "Requirement already satisfied: tqdm>=4.47.0 in c:\\users\\sandr\\anaconda3\\lib\\site-packages (from simpletransformers) (4.67.1)\n",
      "Requirement already satisfied: regex in c:\\users\\sandr\\anaconda3\\lib\\site-packages (from simpletransformers) (2022.7.9)\n",
      "Requirement already satisfied: transformers>=4.31.0 in c:\\users\\sandr\\anaconda3\\lib\\site-packages (from simpletransformers) (4.47.0)\n",
      "Requirement already satisfied: datasets in c:\\users\\sandr\\anaconda3\\lib\\site-packages (from simpletransformers) (3.1.0)\n",
      "Requirement already satisfied: scipy in c:\\users\\sandr\\anaconda3\\lib\\site-packages (from simpletransformers) (1.10.1)\n",
      "Requirement already satisfied: scikit-learn in c:\\users\\sandr\\anaconda3\\lib\\site-packages (from simpletransformers) (1.3.0)\n",
      "Requirement already satisfied: seqeval in c:\\users\\sandr\\anaconda3\\lib\\site-packages (from simpletransformers) (1.2.2)\n",
      "Requirement already satisfied: tensorboard in c:\\users\\sandr\\anaconda3\\lib\\site-packages (from simpletransformers) (2.18.0)\n",
      "Requirement already satisfied: tensorboardx in c:\\users\\sandr\\anaconda3\\lib\\site-packages (from simpletransformers) (2.6.2.2)\n",
      "Requirement already satisfied: pandas in c:\\users\\sandr\\anaconda3\\lib\\site-packages (from simpletransformers) (1.5.3)\n",
      "Requirement already satisfied: tokenizers in c:\\users\\sandr\\anaconda3\\lib\\site-packages (from simpletransformers) (0.21.0)\n",
      "Requirement already satisfied: wandb>=0.10.32 in c:\\users\\sandr\\anaconda3\\lib\\site-packages (from simpletransformers) (0.19.0)\n",
      "Requirement already satisfied: streamlit in c:\\users\\sandr\\anaconda3\\lib\\site-packages (from simpletransformers) (1.40.2)\n",
      "Requirement already satisfied: sentencepiece in c:\\users\\sandr\\anaconda3\\lib\\site-packages (from simpletransformers) (0.2.0)\n",
      "Requirement already satisfied: colorama in c:\\users\\sandr\\anaconda3\\lib\\site-packages (from tqdm>=4.47.0->simpletransformers) (0.4.6)\n",
      "Requirement already satisfied: filelock in c:\\users\\sandr\\anaconda3\\lib\\site-packages (from transformers>=4.31.0->simpletransformers) (3.9.0)\n",
      "Requirement already satisfied: huggingface-hub<1.0,>=0.24.0 in c:\\users\\sandr\\anaconda3\\lib\\site-packages (from transformers>=4.31.0->simpletransformers) (0.26.5)\n",
      "Requirement already satisfied: packaging>=20.0 in c:\\users\\sandr\\anaconda3\\lib\\site-packages (from transformers>=4.31.0->simpletransformers) (23.0)\n",
      "Requirement already satisfied: pyyaml>=5.1 in c:\\users\\sandr\\anaconda3\\lib\\site-packages (from transformers>=4.31.0->simpletransformers) (6.0)\n",
      "Requirement already satisfied: safetensors>=0.4.1 in c:\\users\\sandr\\anaconda3\\lib\\site-packages (from transformers>=4.31.0->simpletransformers) (0.4.5)\n",
      "Requirement already satisfied: click!=8.0.0,>=7.1 in c:\\users\\sandr\\anaconda3\\lib\\site-packages (from wandb>=0.10.32->simpletransformers) (8.0.4)\n",
      "Requirement already satisfied: docker-pycreds>=0.4.0 in c:\\users\\sandr\\anaconda3\\lib\\site-packages (from wandb>=0.10.32->simpletransformers) (0.4.0)\n",
      "Requirement already satisfied: gitpython!=3.1.29,>=1.0.0 in c:\\users\\sandr\\anaconda3\\lib\\site-packages (from wandb>=0.10.32->simpletransformers) (3.1.43)\n",
      "Requirement already satisfied: platformdirs in c:\\users\\sandr\\anaconda3\\lib\\site-packages (from wandb>=0.10.32->simpletransformers) (2.5.2)\n",
      "Requirement already satisfied: protobuf!=4.21.0,!=5.28.0,<6,>=3.19.0 in c:\\users\\sandr\\anaconda3\\lib\\site-packages (from wandb>=0.10.32->simpletransformers) (5.29.1)\n",
      "Requirement already satisfied: psutil>=5.0.0 in c:\\users\\sandr\\anaconda3\\lib\\site-packages (from wandb>=0.10.32->simpletransformers) (5.9.0)\n",
      "Requirement already satisfied: pydantic<3,>=2.6 in c:\\users\\sandr\\anaconda3\\lib\\site-packages (from wandb>=0.10.32->simpletransformers) (2.10.3)\n",
      "Requirement already satisfied: sentry-sdk>=2.0.0 in c:\\users\\sandr\\anaconda3\\lib\\site-packages (from wandb>=0.10.32->simpletransformers) (2.19.2)\n",
      "Requirement already satisfied: setproctitle in c:\\users\\sandr\\anaconda3\\lib\\site-packages (from wandb>=0.10.32->simpletransformers) (1.3.4)\n",
      "Requirement already satisfied: setuptools in c:\\users\\sandr\\anaconda3\\lib\\site-packages (from wandb>=0.10.32->simpletransformers) (68.0.0)\n",
      "Requirement already satisfied: typing-extensions<5,>=4.4 in c:\\users\\sandr\\anaconda3\\lib\\site-packages (from wandb>=0.10.32->simpletransformers) (4.12.2)\n",
      "Requirement already satisfied: charset-normalizer<4,>=2 in c:\\users\\sandr\\anaconda3\\lib\\site-packages (from requests->simpletransformers) (2.0.4)\n",
      "Requirement already satisfied: idna<4,>=2.5 in c:\\users\\sandr\\anaconda3\\lib\\site-packages (from requests->simpletransformers) (3.4)\n",
      "Requirement already satisfied: urllib3<3,>=1.21.1 in c:\\users\\sandr\\anaconda3\\lib\\site-packages (from requests->simpletransformers) (1.26.16)\n",
      "Requirement already satisfied: certifi>=2017.4.17 in c:\\users\\sandr\\anaconda3\\lib\\site-packages (from requests->simpletransformers) (2023.7.22)\n",
      "Requirement already satisfied: pyarrow>=15.0.0 in c:\\users\\sandr\\anaconda3\\lib\\site-packages (from datasets->simpletransformers) (18.1.0)\n",
      "Requirement already satisfied: dill<0.3.9,>=0.3.0 in c:\\users\\sandr\\anaconda3\\lib\\site-packages (from datasets->simpletransformers) (0.3.8)\n",
      "Requirement already satisfied: xxhash in c:\\users\\sandr\\anaconda3\\lib\\site-packages (from datasets->simpletransformers) (3.5.0)\n",
      "Requirement already satisfied: multiprocess<0.70.17 in c:\\users\\sandr\\anaconda3\\lib\\site-packages (from datasets->simpletransformers) (0.70.16)\n",
      "Requirement already satisfied: fsspec[http]<=2024.9.0,>=2023.1.0 in c:\\users\\sandr\\anaconda3\\lib\\site-packages (from datasets->simpletransformers) (2024.9.0)\n",
      "Requirement already satisfied: aiohttp in c:\\users\\sandr\\anaconda3\\lib\\site-packages (from datasets->simpletransformers) (3.8.3)\n",
      "Requirement already satisfied: python-dateutil>=2.8.1 in c:\\users\\sandr\\anaconda3\\lib\\site-packages (from pandas->simpletransformers) (2.8.2)\n",
      "Requirement already satisfied: pytz>=2020.1 in c:\\users\\sandr\\anaconda3\\lib\\site-packages (from pandas->simpletransformers) (2022.7)\n",
      "Requirement already satisfied: joblib>=1.1.1 in c:\\users\\sandr\\anaconda3\\lib\\site-packages (from scikit-learn->simpletransformers) (1.2.0)\n",
      "Requirement already satisfied: threadpoolctl>=2.0.0 in c:\\users\\sandr\\anaconda3\\lib\\site-packages (from scikit-learn->simpletransformers) (2.2.0)\n",
      "Requirement already satisfied: altair<6,>=4.0 in c:\\users\\sandr\\anaconda3\\lib\\site-packages (from streamlit->simpletransformers) (5.5.0)\n",
      "Requirement already satisfied: blinker<2,>=1.0.0 in c:\\users\\sandr\\anaconda3\\lib\\site-packages (from streamlit->simpletransformers) (1.9.0)\n",
      "Requirement already satisfied: cachetools<6,>=4.0 in c:\\users\\sandr\\anaconda3\\lib\\site-packages (from streamlit->simpletransformers) (5.5.0)\n",
      "Requirement already satisfied: pillow<12,>=7.1.0 in c:\\users\\sandr\\anaconda3\\lib\\site-packages (from streamlit->simpletransformers) (9.4.0)\n",
      "Requirement already satisfied: rich<14,>=10.14.0 in c:\\users\\sandr\\anaconda3\\lib\\site-packages (from streamlit->simpletransformers) (13.9.4)\n",
      "Requirement already satisfied: tenacity<10,>=8.1.0 in c:\\users\\sandr\\anaconda3\\lib\\site-packages (from streamlit->simpletransformers) (8.2.2)\n",
      "Requirement already satisfied: toml<2,>=0.10.1 in c:\\users\\sandr\\anaconda3\\lib\\site-packages (from streamlit->simpletransformers) (0.10.2)\n",
      "Requirement already satisfied: watchdog<7,>=2.1.5 in c:\\users\\sandr\\anaconda3\\lib\\site-packages (from streamlit->simpletransformers) (2.1.6)\n",
      "Requirement already satisfied: pydeck<1,>=0.8.0b4 in c:\\users\\sandr\\anaconda3\\lib\\site-packages (from streamlit->simpletransformers) (0.9.1)\n",
      "Requirement already satisfied: tornado<7,>=6.0.3 in c:\\users\\sandr\\anaconda3\\lib\\site-packages (from streamlit->simpletransformers) (6.3.2)\n",
      "Requirement already satisfied: absl-py>=0.4 in c:\\users\\sandr\\anaconda3\\lib\\site-packages (from tensorboard->simpletransformers) (2.1.0)\n",
      "Requirement already satisfied: grpcio>=1.48.2 in c:\\users\\sandr\\anaconda3\\lib\\site-packages (from tensorboard->simpletransformers) (1.68.1)\n",
      "Requirement already satisfied: markdown>=2.6.8 in c:\\users\\sandr\\anaconda3\\lib\\site-packages (from tensorboard->simpletransformers) (3.4.1)\n",
      "Requirement already satisfied: six>1.9 in c:\\users\\sandr\\anaconda3\\lib\\site-packages (from tensorboard->simpletransformers) (1.16.0)\n",
      "Requirement already satisfied: tensorboard-data-server<0.8.0,>=0.7.0 in c:\\users\\sandr\\anaconda3\\lib\\site-packages (from tensorboard->simpletransformers) (0.7.2)\n",
      "Requirement already satisfied: werkzeug>=1.0.1 in c:\\users\\sandr\\anaconda3\\lib\\site-packages (from tensorboard->simpletransformers) (2.2.3)\n",
      "Requirement already satisfied: jinja2 in c:\\users\\sandr\\anaconda3\\lib\\site-packages (from altair<6,>=4.0->streamlit->simpletransformers) (3.1.2)\n",
      "Requirement already satisfied: jsonschema>=3.0 in c:\\users\\sandr\\anaconda3\\lib\\site-packages (from altair<6,>=4.0->streamlit->simpletransformers) (4.17.3)\n",
      "Requirement already satisfied: narwhals>=1.14.2 in c:\\users\\sandr\\anaconda3\\lib\\site-packages (from altair<6,>=4.0->streamlit->simpletransformers) (1.16.0)\n",
      "Requirement already satisfied: attrs>=17.3.0 in c:\\users\\sandr\\anaconda3\\lib\\site-packages (from aiohttp->datasets->simpletransformers) (22.1.0)\n",
      "Requirement already satisfied: multidict<7.0,>=4.5 in c:\\users\\sandr\\anaconda3\\lib\\site-packages (from aiohttp->datasets->simpletransformers) (6.0.2)\n",
      "Requirement already satisfied: async-timeout<5.0,>=4.0.0a3 in c:\\users\\sandr\\anaconda3\\lib\\site-packages (from aiohttp->datasets->simpletransformers) (4.0.2)\n",
      "Requirement already satisfied: yarl<2.0,>=1.0 in c:\\users\\sandr\\anaconda3\\lib\\site-packages (from aiohttp->datasets->simpletransformers) (1.8.1)\n",
      "Requirement already satisfied: frozenlist>=1.1.1 in c:\\users\\sandr\\anaconda3\\lib\\site-packages (from aiohttp->datasets->simpletransformers) (1.3.3)\n",
      "Requirement already satisfied: aiosignal>=1.1.2 in c:\\users\\sandr\\anaconda3\\lib\\site-packages (from aiohttp->datasets->simpletransformers) (1.2.0)\n",
      "Requirement already satisfied: gitdb<5,>=4.0.1 in c:\\users\\sandr\\anaconda3\\lib\\site-packages (from gitpython!=3.1.29,>=1.0.0->wandb>=0.10.32->simpletransformers) (4.0.11)\n",
      "Requirement already satisfied: annotated-types>=0.6.0 in c:\\users\\sandr\\anaconda3\\lib\\site-packages (from pydantic<3,>=2.6->wandb>=0.10.32->simpletransformers) (0.7.0)\n",
      "Requirement already satisfied: pydantic-core==2.27.1 in c:\\users\\sandr\\anaconda3\\lib\\site-packages (from pydantic<3,>=2.6->wandb>=0.10.32->simpletransformers) (2.27.1)\n",
      "Requirement already satisfied: markdown-it-py>=2.2.0 in c:\\users\\sandr\\anaconda3\\lib\\site-packages (from rich<14,>=10.14.0->streamlit->simpletransformers) (2.2.0)\n",
      "Requirement already satisfied: pygments<3.0.0,>=2.13.0 in c:\\users\\sandr\\anaconda3\\lib\\site-packages (from rich<14,>=10.14.0->streamlit->simpletransformers) (2.15.1)\n",
      "Requirement already satisfied: MarkupSafe>=2.1.1 in c:\\users\\sandr\\anaconda3\\lib\\site-packages (from werkzeug>=1.0.1->tensorboard->simpletransformers) (2.1.1)\n",
      "Requirement already satisfied: smmap<6,>=3.0.1 in c:\\users\\sandr\\anaconda3\\lib\\site-packages (from gitdb<5,>=4.0.1->gitpython!=3.1.29,>=1.0.0->wandb>=0.10.32->simpletransformers) (5.0.1)\n",
      "Requirement already satisfied: pyrsistent!=0.17.0,!=0.17.1,!=0.17.2,>=0.14.0 in c:\\users\\sandr\\anaconda3\\lib\\site-packages (from jsonschema>=3.0->altair<6,>=4.0->streamlit->simpletransformers) (0.18.0)\n",
      "Requirement already satisfied: mdurl~=0.1 in c:\\users\\sandr\\anaconda3\\lib\\site-packages (from markdown-it-py>=2.2.0->rich<14,>=10.14.0->streamlit->simpletransformers) (0.1.0)\n",
      "Note: you may need to restart the kernel to use updated packages.\n"
     ]
    }
   ],
   "source": [
    "pip install simpletransformers"
   ]
  },
  {
   "cell_type": "code",
   "execution_count": 8,
   "id": "befec3a5",
   "metadata": {},
   "outputs": [
    {
     "name": "stdout",
     "output_type": "stream",
     "text": [
      "Requirement already satisfied: torch in c:\\users\\sandr\\anaconda3\\lib\\site-packages (2.5.1)\n",
      "Requirement already satisfied: torchvision in c:\\users\\sandr\\anaconda3\\lib\\site-packages (0.20.1)\n",
      "Requirement already satisfied: torchaudio in c:\\users\\sandr\\anaconda3\\lib\\site-packages (2.5.1)\n",
      "Requirement already satisfied: filelock in c:\\users\\sandr\\anaconda3\\lib\\site-packages (from torch) (3.9.0)\n",
      "Requirement already satisfied: typing-extensions>=4.8.0 in c:\\users\\sandr\\anaconda3\\lib\\site-packages (from torch) (4.12.2)\n",
      "Requirement already satisfied: networkx in c:\\users\\sandr\\anaconda3\\lib\\site-packages (from torch) (3.1)\n",
      "Requirement already satisfied: jinja2 in c:\\users\\sandr\\anaconda3\\lib\\site-packages (from torch) (3.1.2)\n",
      "Requirement already satisfied: fsspec in c:\\users\\sandr\\anaconda3\\lib\\site-packages (from torch) (2024.9.0)\n",
      "Requirement already satisfied: sympy==1.13.1 in c:\\users\\sandr\\anaconda3\\lib\\site-packages (from torch) (1.13.1)\n",
      "Requirement already satisfied: mpmath<1.4,>=1.1.0 in c:\\users\\sandr\\anaconda3\\lib\\site-packages (from sympy==1.13.1->torch) (1.3.0)\n",
      "Requirement already satisfied: numpy in c:\\users\\sandr\\anaconda3\\lib\\site-packages (from torchvision) (1.24.3)\n",
      "Requirement already satisfied: pillow!=8.3.*,>=5.3.0 in c:\\users\\sandr\\anaconda3\\lib\\site-packages (from torchvision) (9.4.0)\n",
      "Requirement already satisfied: MarkupSafe>=2.0 in c:\\users\\sandr\\anaconda3\\lib\\site-packages (from jinja2->torch) (2.1.1)\n",
      "Note: you may need to restart the kernel to use updated packages.\n"
     ]
    }
   ],
   "source": [
    "pip install torch torchvision torchaudio\n"
   ]
  },
  {
   "cell_type": "code",
   "execution_count": 9,
   "id": "e4606a0a",
   "metadata": {},
   "outputs": [
    {
     "name": "stdout",
     "output_type": "stream",
     "text": [
      "2.5.1+cpu\n"
     ]
    }
   ],
   "source": [
    "import torch\n",
    "print(torch.__version__)"
   ]
  },
  {
   "cell_type": "code",
   "execution_count": 10,
   "id": "3932c00c",
   "metadata": {},
   "outputs": [],
   "source": [
    "import pandas as pd\n",
    "from simpletransformers.classification import ClassificationModel"
   ]
  },
  {
   "cell_type": "markdown",
   "id": "2ffa187c",
   "metadata": {},
   "source": [
    "Preparing the data"
   ]
  },
  {
   "cell_type": "code",
   "execution_count": 11,
   "id": "a51c0620",
   "metadata": {},
   "outputs": [
    {
     "name": "stdout",
     "output_type": "stream",
     "text": [
      "                                                text  labels\n",
      "0  One of the other reviewers has mentioned that ...       1\n",
      "1  A wonderful little production. <br /><br />The...       1\n",
      "2  I thought this was a wonderful way to spend ti...       1\n",
      "3  Basically there's a family where a little boy ...       0\n",
      "4  Petter Mattei's \"Love in the Time of Money\" is...       1\n"
     ]
    }
   ],
   "source": [
    "# Prepare the data\n",
    "train_data = train_data[['review', 'sentiment']]\n",
    "train_data.columns = ['text', 'labels']  # Rename columns to match expected format\n",
    "\n",
    "# Convert string labels to integers\n",
    "train_data['labels'] = train_data['labels'].map({'positive': 1, 'negative': 0})\n",
    "\n",
    "# Check the first few rows to ensure the format is correct\n",
    "print(train_data.head())"
   ]
  },
  {
   "cell_type": "markdown",
   "id": "92a6424f",
   "metadata": {},
   "source": [
    " Initialize the BERT Model"
   ]
  },
  {
   "cell_type": "code",
   "execution_count": 12,
   "id": "294a19a9",
   "metadata": {},
   "outputs": [
    {
     "name": "stderr",
     "output_type": "stream",
     "text": [
      "Some weights of BertForSequenceClassification were not initialized from the model checkpoint at bert-base-uncased and are newly initialized: ['classifier.bias', 'classifier.weight']\n",
      "You should probably TRAIN this model on a down-stream task to be able to use it for predictions and inference.\n"
     ]
    }
   ],
   "source": [
    "from simpletransformers.classification import ClassificationModel\n",
    "\n",
    "# Initialize the BERT model\n",
    "model = ClassificationModel('bert', 'bert-base-uncased', use_cuda=False)  # Set use_cuda=True if you have a GPU"
   ]
  },
  {
   "cell_type": "code",
   "execution_count": 13,
   "id": "7731bd63",
   "metadata": {},
   "outputs": [
    {
     "name": "stdout",
     "output_type": "stream",
     "text": [
      "Index(['text', 'labels'], dtype='object')\n"
     ]
    }
   ],
   "source": [
    "print(train_data.columns)"
   ]
  },
  {
   "cell_type": "code",
   "execution_count": 14,
   "id": "e3871911",
   "metadata": {},
   "outputs": [],
   "source": [
    "train_data.columns = train_data.columns.str.strip()  # Remove leading/trailing spaces"
   ]
  },
  {
   "cell_type": "code",
   "execution_count": 15,
   "id": "c6f2fa0b",
   "metadata": {},
   "outputs": [
    {
     "name": "stdout",
     "output_type": "stream",
     "text": [
      "Column names in train_data: ['text', 'labels']\n"
     ]
    }
   ],
   "source": [
    "print(\"Column names in train_data:\", train_data.columns.tolist())"
   ]
  },
  {
   "cell_type": "code",
   "execution_count": 16,
   "id": "aa82f3e5",
   "metadata": {},
   "outputs": [
    {
     "name": "stdout",
     "output_type": "stream",
     "text": [
      "                                                text  labels\n",
      "0  One of the other reviewers has mentioned that ...       1\n",
      "1  A wonderful little production. <br /><br />The...       1\n",
      "2  I thought this was a wonderful way to spend ti...       1\n",
      "3  Basically there's a family where a little boy ...       0\n",
      "4  Petter Mattei's \"Love in the Time of Money\" is...       1\n"
     ]
    }
   ],
   "source": [
    "print(train_data.head())"
   ]
  },
  {
   "cell_type": "code",
   "execution_count": 17,
   "id": "6ff695c8",
   "metadata": {},
   "outputs": [
    {
     "name": "stdout",
     "output_type": "stream",
     "text": [
      "Column names in train_data: ['review', 'sentiment']\n",
      "                                              review sentiment\n",
      "0  One of the other reviewers has mentioned that ...  positive\n",
      "1  A wonderful little production. <br /><br />The...  positive\n",
      "2  I thought this was a wonderful way to spend ti...  positive\n",
      "3  Basically there's a family where a little boy ...  negative\n",
      "4  Petter Mattei's \"Love in the Time of Money\" is...  positive\n"
     ]
    }
   ],
   "source": [
    "import os\n",
    "import pandas as pd\n",
    "\n",
    "# Load the dataset (make sure the path is correct)\n",
    "dataset_path = os.path.expanduser(\"~/.cache/kagglehub/datasets/lakshmi25npathi/imdb-dataset-of-50k-movie-reviews/versions/1\")\n",
    "train_data = pd.read_csv(os.path.join(dataset_path, 'IMDB Dataset.csv'))  # Adjust the filename if necessary\n",
    "\n",
    "# Check the column names\n",
    "print(\"Column names in train_data:\", train_data.columns.tolist())\n",
    "\n",
    "# Inspect the first few rows of the DataFrame\n",
    "print(train_data.head())"
   ]
  },
  {
   "cell_type": "code",
   "execution_count": 18,
   "id": "3742d5ca",
   "metadata": {},
   "outputs": [
    {
     "name": "stdout",
     "output_type": "stream",
     "text": [
      "Column names in train_data: ['review', 'sentiment']\n",
      "                                                text  labels\n",
      "0  One of the other reviewers has mentioned that ...       1\n",
      "1  A wonderful little production. <br /><br />The...       1\n",
      "2  I thought this was a wonderful way to spend ti...       1\n",
      "3  Basically there's a family where a little boy ...       0\n",
      "4  Petter Mattei's \"Love in the Time of Money\" is...       1\n"
     ]
    }
   ],
   "source": [
    "import os\n",
    "import pandas as pd\n",
    "\n",
    "# Load the dataset\n",
    "dataset_path = os.path.expanduser(\"~/.cache/kagglehub/datasets/lakshmi25npathi/imdb-dataset-of-50k-movie-reviews/versions/1\")\n",
    "train_data = pd.read_csv(os.path.join(dataset_path, 'IMDB Dataset.csv'))  # Adjust the filename if necessary\n",
    "\n",
    "# Check the column names\n",
    "print(\"Column names in train_data:\", train_data.columns.tolist())\n",
    "\n",
    "# Strip any leading/trailing spaces from column names\n",
    "train_data.columns = train_data.columns.str.strip()\n",
    "\n",
    "# Prepare the data\n",
    "try:\n",
    "    train_data = train_data[['review', 'sentiment']]  # Select the correct columns\n",
    "    train_data.columns = ['text', 'labels']  # Rename columns to match expected format\n",
    "\n",
    "    # Convert string labels to integers\n",
    "    train_data['labels'] = train_data['labels'].map({'positive': 1, 'negative': 0})\n",
    "\n",
    "    # Check the first few rows to ensure the format is correct\n",
    "    print(train_data.head())\n",
    "except KeyError as e:\n",
    "    print(f\"KeyError: {e}. Please check the column names again.\")"
   ]
  },
  {
   "cell_type": "code",
   "execution_count": 19,
   "id": "b0c02abe",
   "metadata": {},
   "outputs": [
    {
     "name": "stderr",
     "output_type": "stream",
     "text": [
      "Some weights of BertForSequenceClassification were not initialized from the model checkpoint at bert-base-uncased and are newly initialized: ['classifier.bias', 'classifier.weight']\n",
      "You should probably TRAIN this model on a down-stream task to be able to use it for predictions and inference.\n"
     ]
    },
    {
     "data": {
      "application/vnd.jupyter.widget-view+json": {
       "model_id": "fde59c00b3a54fa59381b2ada2f14e26",
       "version_major": 2,
       "version_minor": 0
      },
      "text/plain": [
       "  0%|          | 0/100 [00:00<?, ?it/s]"
      ]
     },
     "metadata": {},
     "output_type": "display_data"
    },
    {
     "data": {
      "application/vnd.jupyter.widget-view+json": {
       "model_id": "5704197cff804a1a94f7cb0b2486bd28",
       "version_major": 2,
       "version_minor": 0
      },
      "text/plain": [
       "Epoch:   0%|          | 0/3 [00:00<?, ?it/s]"
      ]
     },
     "metadata": {},
     "output_type": "display_data"
    },
    {
     "data": {
      "application/vnd.jupyter.widget-view+json": {
       "model_id": "afdb1ca6cc424757b2c296460dc67cfe",
       "version_major": 2,
       "version_minor": 0
      },
      "text/plain": [
       "Running Epoch 1 of 3:   0%|          | 0/3125 [00:00<?, ?it/s]"
      ]
     },
     "metadata": {},
     "output_type": "display_data"
    },
    {
     "data": {
      "application/vnd.jupyter.widget-view+json": {
       "model_id": "72281cf562a04d2cab99501183caf561",
       "version_major": 2,
       "version_minor": 0
      },
      "text/plain": [
       "Running Epoch 2 of 3:   0%|          | 0/3125 [00:00<?, ?it/s]"
      ]
     },
     "metadata": {},
     "output_type": "display_data"
    },
    {
     "data": {
      "application/vnd.jupyter.widget-view+json": {
       "model_id": "8e708a9204b54ac5ba12044464b04229",
       "version_major": 2,
       "version_minor": 0
      },
      "text/plain": [
       "Running Epoch 3 of 3:   0%|          | 0/3125 [00:00<?, ?it/s]"
      ]
     },
     "metadata": {},
     "output_type": "display_data"
    },
    {
     "data": {
      "text/plain": [
       "(9375, 0.20287660163389518)"
      ]
     },
     "execution_count": 19,
     "metadata": {},
     "output_type": "execute_result"
    }
   ],
   "source": [
    "# Initialize the BERT model\n",
    "model = ClassificationModel('bert', 'bert-base-uncased', use_cuda=False)  # Set use_cuda=True if you have a GPU\n",
    "\n",
    "# Set training arguments\n",
    "train_args = {\n",
    "    'num_train_epochs': 3,\n",
    "    'train_batch_size': 16,\n",
    "    'learning_rate': 3e-5,\n",
    "    'max_seq_length': 128,\n",
    "    'overwrite_output_dir': True,\n",
    "    'use_multiprocessing': True,\n",
    "}\n",
    "\n",
    "# Train the model\n",
    "model.train_model(train_data, args=train_args)"
   ]
  },
  {
   "cell_type": "markdown",
   "id": "7e7d09db",
   "metadata": {},
   "source": [
    "Example of Making Predictions"
   ]
  },
  {
   "cell_type": "code",
   "execution_count": 22,
   "id": "6bb7e7e2",
   "metadata": {},
   "outputs": [
    {
     "data": {
      "application/vnd.jupyter.widget-view+json": {
       "model_id": "fa46759fa6a94b47aee976f5ac20d7f9",
       "version_major": 2,
       "version_minor": 0
      },
      "text/plain": [
       "0it [00:00, ?it/s]"
      ]
     },
     "metadata": {},
     "output_type": "display_data"
    },
    {
     "data": {
      "application/vnd.jupyter.widget-view+json": {
       "model_id": "701991b43d3a48e6a6a21855cde4cc37",
       "version_major": 2,
       "version_minor": 0
      },
      "text/plain": [
       "  0%|          | 0/1 [00:00<?, ?it/s]"
      ]
     },
     "metadata": {},
     "output_type": "display_data"
    },
    {
     "name": "stdout",
     "output_type": "stream",
     "text": [
      "[1 0]\n"
     ]
    }
   ],
   "source": [
    "# Example of making predictions\n",
    "predictions, raw_outputs = model.predict([\"This movie was fantastic!\", \"I did not like this movie.\"])\n",
    "print(predictions)  # Output will be the predicted labels (0 or 1)"
   ]
  },
  {
   "cell_type": "markdown",
   "id": "26aa7a45",
   "metadata": {},
   "source": [
    "Evaluate the Model"
   ]
  },
  {
   "cell_type": "code",
   "execution_count": 24,
   "id": "dc8d3ace",
   "metadata": {},
   "outputs": [
    {
     "data": {
      "application/vnd.jupyter.widget-view+json": {
       "model_id": "866c8a224a65453fae14396f45dc9c65",
       "version_major": 2,
       "version_minor": 0
      },
      "text/plain": [
       "0it [00:00, ?it/s]"
      ]
     },
     "metadata": {},
     "output_type": "display_data"
    },
    {
     "data": {
      "application/vnd.jupyter.widget-view+json": {
       "model_id": "e03779f7fffa4b2b839bf682202eee50",
       "version_major": 2,
       "version_minor": 0
      },
      "text/plain": [
       "Running Evaluation:   0%|          | 0/1 [00:00<?, ?it/s]"
      ]
     },
     "metadata": {},
     "output_type": "display_data"
    },
    {
     "name": "stdout",
     "output_type": "stream",
     "text": [
      "{'mcc': 0.9800379116648474, 'accuracy': 0.99, 'f1_score': 0.9899183385421917, 'tp': 54, 'tn': 45, 'fp': 0, 'fn': 1, 'auroc': 0.9995959595959596, 'auprc': 0.9996753246753247, 'eval_loss': 0.03183692321181297}\n"
     ]
    }
   ],
   "source": [
    "# Assuming you have a validation dataset loaded as eval_data\n",
    "# Create an eval_data dataset if it doesn't exist\n",
    "# You'll need to load your validation data into a DataFrame with 'text' and 'labels' columns.\n",
    "# For this example, we'll use a small sample from train_data.\n",
    "eval_data = train_data.sample(100) # Choose an appropriate size\n",
    "\n",
    "# Now evaluate the model using the eval_data\n",
    "result, model_outputs, wrong_predictions = model.eval_model(eval_data)\n",
    "print(result)"
   ]
  },
  {
   "cell_type": "code",
   "execution_count": null,
   "id": "92f6a684",
   "metadata": {},
   "outputs": [],
   "source": []
  }
 ],
 "metadata": {
  "kernelspec": {
   "display_name": "Python 3 (ipykernel)",
   "language": "python",
   "name": "python3"
  },
  "language_info": {
   "codemirror_mode": {
    "name": "ipython",
    "version": 3
   },
   "file_extension": ".py",
   "mimetype": "text/x-python",
   "name": "python",
   "nbconvert_exporter": "python",
   "pygments_lexer": "ipython3",
   "version": "3.11.4"
  }
 },
 "nbformat": 4,
 "nbformat_minor": 5
}
